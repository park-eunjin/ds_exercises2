{
 "nbformat": 4,
 "nbformat_minor": 0,
 "metadata": {
  "colab": {
   "name": "Ⅳ262_code_01.ipynb",
   "provenance": [],
   "collapsed_sections": []
  },
  "kernelspec": {
   "name": "python3",
   "display_name": "Python 3"
  },
  "language_info": {
   "name": "python"
  }
 },
 "cells": [
  {
   "cell_type": "markdown",
   "metadata": {
    "id": "N1JGyiyV5_NC",
    "pycharm": {
     "name": "#%% md\n"
    }
   },
   "source": [
    "#  Ⅳ-2-6 이미지 분류하기\n",
    "### [발전 활동] 직접 쓴 손 글씨 숫자를 딥러닝으로 분류하기"
   ]
  },
  {
   "cell_type": "markdown",
   "source": [
    "## 1단계 딥러닝 모델링 코드 작성하기"
   ],
   "metadata": {
    "id": "gvP5dllXHbIe",
    "pycharm": {
     "name": "#%% md\n"
    }
   }
  },
  {
   "cell_type": "markdown",
   "metadata": {
    "id": "1cfceWHVoqUh",
    "pycharm": {
     "name": "#%% md\n"
    }
   },
   "source": [
    "## 모듈 불러오기"
   ]
  },
  {
   "cell_type": "code",
   "metadata": {
    "id": "YwGxIKPoouEi",
    "pycharm": {
     "name": "#%%\n"
    }
   },
   "source": [
    "import numpy as np\n",
    "import matplotlib.pyplot as plt\n",
    "from PIL import Image\n",
    "from keras.models import load_model\n"
   ],
   "execution_count": 2,
   "outputs": [
    {
     "ename": "ModuleNotFoundError",
     "evalue": "No module named 'keras'",
     "output_type": "error",
     "traceback": [
      "\u001B[0;31m---------------------------------------------------------------------------\u001B[0m",
      "\u001B[0;31mModuleNotFoundError\u001B[0m                       Traceback (most recent call last)",
      "\u001B[0;32m/var/folders/4x/j5lvzq1n2v147033qgt1zlzm0000gn/T/ipykernel_4655/3444183.py\u001B[0m in \u001B[0;36m<module>\u001B[0;34m\u001B[0m\n\u001B[1;32m      2\u001B[0m \u001B[0;32mimport\u001B[0m \u001B[0mmatplotlib\u001B[0m\u001B[0;34m.\u001B[0m\u001B[0mpyplot\u001B[0m \u001B[0;32mas\u001B[0m \u001B[0mplt\u001B[0m\u001B[0;34m\u001B[0m\u001B[0;34m\u001B[0m\u001B[0m\n\u001B[1;32m      3\u001B[0m \u001B[0;32mfrom\u001B[0m \u001B[0mPIL\u001B[0m \u001B[0;32mimport\u001B[0m \u001B[0mImage\u001B[0m\u001B[0;34m\u001B[0m\u001B[0;34m\u001B[0m\u001B[0m\n\u001B[0;32m----> 4\u001B[0;31m \u001B[0;32mfrom\u001B[0m \u001B[0mkeras\u001B[0m\u001B[0;34m.\u001B[0m\u001B[0mmodels\u001B[0m \u001B[0;32mimport\u001B[0m \u001B[0mload_model\u001B[0m\u001B[0;34m\u001B[0m\u001B[0;34m\u001B[0m\u001B[0m\n\u001B[0m\u001B[1;32m      5\u001B[0m \u001B[0;34m\u001B[0m\u001B[0m\n",
      "\u001B[0;31mModuleNotFoundError\u001B[0m: No module named 'keras'"
     ]
    }
   ]
  },
  {
   "cell_type": "markdown",
   "source": [
    "2. 업로드된 모델 파일을 불러온다."
   ],
   "metadata": {
    "id": "4sw-kiHjLCQl",
    "pycharm": {
     "name": "#%% md\n"
    }
   }
  },
  {
   "cell_type": "markdown",
   "source": [
    "![371p_2.png](data:image/png;base64,iVBORw0KGgoAAAANSUhEUgAAAkEAAAFKCAIAAACVSRykAAAr0UlEQVR42u3dcVgb92Hw8XOTTgne6PzazvKHeZ53Nqkd683m0Lx1CSRW59akboHuLSPreFhSGXvlBa9OaSkhycN42/JQMmbaQv02BrUJZV1U5VkNbWbcuZVbCPMzV8mW4UCH/bx98B9ZwPVTWntRwur3pDuOQxLSnXTS6Sd9P0+flIjT6U6O7uu7+91pw82bNyUAAAS0gYYBAARFwwAAoqJhAABR0TAAgKhoGABAVDQMACAqGgYAEBUNAwCIioYBAERFwwAAoqJhAABR0TAAgKhoGABAVDQMACAqGgYAEBUNAwCIioYBAERFwwAAoqJhAABR0TAAgKhoGABAVDQMACAqGgYAEBUNAwCIioYBQLZbXFy0doZbtmyxe52sQcMAIHtNTEx4PB7LZys3rKysrLq6OpWZyGVNroVJPzEaDQOALDUzM9PT05OmmcsVcbvdu3btSu7pQ0NDs7Ozra2tZmskB0yu8s6dO1MsqIKGAUCWOhUmhXtjPBVy+QxOWR2WxILJAZucnFQWzFTGlIApS5j0q+vRMADIUlrD5B2m8vJyg8+SJzY4ZXIVkTsk7x1qp+iMZ0wfMOWJqe9l0jAAyFLZ2TApqYylI2ASDQOArJW1DZNMZixNAZNoGABkrWxumGQ4Y+kLmETDACBrZXnDJAMZS2vAJBoGAFkruYYNDQ3Fn+Dq1asWjgyMk7F0B0yiYQCQtZJrWELaddOWNExaJ2PyD+kOmETDACBridIwKVbGZOkOmGS2YfICyWteFqbsKhq/mC5a0teHA0A+EKhhUlTGNOkLmGSqYfKSKbuH2prrHzFLDljSzzXhda/7/jZ/gokafJfbS+T/vzLe9slj3ouS80/7vvZ/KopuDf/yQtf22sHQD0d8l9tK0r7AALBCrIZJsTKW1oBJphqmv/VkTjYscPzumq8Gw484ml54reXe8I80DIBNRGyY/hyYZP5mVGaZO5YoL4oSWLmryjIlHACzHvnp1r53sZlp2PSJfZVPz4cfKWr53rmm3eEfaRgAm4jVsOiAKdKaMdNjOuTlE+k8ltYwV/d5T+3W+BNfnx5srOuakErbRjxHnA7lQRoGwCYCNSx6GL2k+9qz9GUs18clmmpYTDQMgE1EaVjM68CSvjWwKTQsERoGwCZCNCzOhcwZyBgNSzRxnIYF56d8g899+7T/4kJQkhx3Ol37ax9+tNq1ozDGzJfm/H/Xf3J0KmBkYgAQoWEJ78SR7oyZbpj8hu7cuVOYU2Jpa9iCv8vdPDh9I3ouDqf7hKfNtfXW1YeCF3prHh2IOXHJZ30jjSvn3gBAJ8sbZvBWUmnNWJLXhylvqLJkyb2wHMJDhw5Zsg7xpKdhwQtdlbWDc+GfHXeWVBwsLdoo75SdGr+woIzNLz7iG2srUcsUnOp4T93wjbUTT3hHX15SZlDVf77vIHtjACJlc8NM3QsxfRlL8vow5equnLg+bOUCZ8lww677O/a6w01yuDp8fXXOQm2X6+fexv/VNn5N/qm45XtnIkfnu7rPPVNbtDLxgr+jzu11VLa0/GUtRxQBRMvahiVxM980ZSzJ68O0a5yF2Q9bl+mGzY/U7HsqIP9Q5B4582RpxGHA4FTXgbrBeblvR3yvKc27OLDvI72h684O9p3vq1pzjPG65NiY9vcAgKCytmHylj+JeyGmI2Om75c4Ozsr5PmwdZlt2MLo4b3HzkqhPS2vr35H9AwDve9xD8v/v61l7MdNTvmH5XnvkX3KQhSW17f8Sa2rvLhoE6fAACSgNUy5ha5Vs10Mk1JomH7BTO3J6DNWVlaW+p4M4xITTRzZsEDX9ppBQ6+tq+P1ueHP1XS8uLT6y4KtzvLq+ob66j1FjlsNzQ5AvknlfI0R8syT3iGRGzY5OZnEoTglY1YdiqNhiSa2pGFhS5emTp89/aPvT029OqfVzLG7yfO3LaWcDgMQi7bHYy15/6mqqsrC45OmyBmzYVyikKxv2ILXvTc8Ub3ntU5XckcEl4MLPw+c/npHhy80ttGxv+/HJ6uSuf4aQH6I/kKTVKTvDryZZ7phylspzFuQhrH12pgOV895T03ULK9PdTU+f8eRlvr3rRwkXA7Ov+Id/PobD/W1lOpHcCzPDX7sQNeroTn1nfcQMQAwy1zDlLEo2mASuWdJ7+Rm+r71Fl4fdm382AONo6Gx9cX1J0c69+vmuhQYaKjrvRC6SMz55Jkxd7H80HjrnkZf6JeFB7vH+lbH1ktL/o77lTH6VSde6avgcCIAmJTk9WHKeBKRrg9L4zXOTtd+V/F/k4JXprx/H1CvW97ffebESq4uDhz4SK8ysVSw1fXHtc7wxKfGAwvKhc+VJ85/mYQBgGkmGibvgWlDUMT7DszM3WtK3t/q9H2pvlh32HDp5QF3fW8g1sSO+1p832hycpUYAJhn7liivCs2OjqqHxMZ/XVnBll7ucO60nzP38DY8MlhvzrOcFNxqaui+uN/XntfrNdZmvOPDT+/coNgeWLn/3Qxth4AUpHr4xIBALmLhgEAREXDAACiomEAAFHRMACAqGgYAEBUNAwAICoaBgAQFQ0DAIiKhgEAREXDAACiomEAAFHRMACAqGgYAEBUNAwAICoaBgAQFQ0DAIiKhgEAREXDAACiomEAAFHlacN+88bC2z+ZvPnLX9q9IOZsKCh45wf+6B1bNtu9IACQFfKxYcEXvnu99Qnp7bftXpBkbLjtto3Hv/RbH/6Q3QsCAPbLu4bdvPqLa+99QNCAqW655Xf/6dw7fu8Ou5cDAGyWdw0L/u3z19uesnspUrWx+/OOP3vY7qUAAJvlXcPeHPzGf/YNSG++efOtt+xeluTd1nik4PHP2L0UAGCz/GvY15650f3XGxwOSf6fsCWjYQAg5W3D1JUXtmQ0DACkPG+Y+hY4HLfc47z1D//A7kWLbflf/nX5QiDiQRoGABINU2RzEoRbYADIGBoWks1JEG6BASBjaFhINidBuAUGgIyhYSHZnAThFhgAMoaGhWRzEoRbYADIGBoWks1JEG6BASBjaFhINidBuAUGgIyhYSHZnAThFhgAMoaGhZhNwsTExNWrVw1OvHnz5vLycnsXGAByEg0LMZ6ExcVFj8czMzNj6kWrw2xZYADIYTQsxHgSToUl8bpJZ4yGAcB6aFiI8SS43e6kXzq5jNEwAFgPDQtJomFGgjQzM9PT06N/JImMZbJhi4uLk5OTCXc0t2zZ0traKv/T8gXIsHxbXyD30LCQjDXM4BMtXGBT5KU1eKovNzbr+ba+QO6hYSGZbJjB51q1wMZNTEx4PB7j04u+Wc+39QVyEg0LyXDDDD7dkgU2LonhKvIGvayszODEmzdv3rVrV/Y0IN/WF8hJNCwk8w0zOIfUF9i4pIdcGqc0IOnLDFhfABFoWIgtDTM4k1xqmBTerMvvobyDku4XYn2BfEDDQuxqmJH55FjDjKxyZqSyvnKTNm/erH9kcnIyy9cXyEk0LMTGhsnijyywpWGmBjsYZOqty4BUGhb9/sQZ4pgl6wvkJBoWkr6GjY6OxvzVYpjyMw2zRSoNa21tjTg8KP9pyg/GnDhL1hfISTQsJE0Ni8N4MGhYmiTXMDldVVVV8vsTvYc9NDQU84hilqwvkJNoWAgNM7VIycmNhil7YHLA7r///oivI1hvVyxL1hfISTQshIaZWqTk5EDDysrKDh06JIVz1RMWMUHM66azZH2BnETDQixv2MzMjLyZi/O1YXnYMG3Iw5Ywy+efyvoaJEdLW/KhoSH5n0rSNDG/moeGAelDw0KsbZg2HFGeeL2M5WHDso3ZhkX8iSu5qqqqihjcYcmNngEYRMNCLGxYxCZsvYzlfMPkTbz8Vly9enXz5s3yvou2oW9tbZV/Jf/reqP4MsZUw+RViD5yKD99dnY2ekUixtnTMCB9aFiIVQ2LeUFY9DhsKacbFvOckHbXJUEbFvMPUWlVwnH2NAxIHxoWYknD4lzRrD+PosjJhsU8G6Qnb+uVC+PEaljMpdX+uGPuounH2dMwIH1oWEjqDUt4S46IjOVkw7RjaMpe186dO5VVngzTrumW1qlChhlvWJydMOXn6CPG+l0xGgakT6oNm5iYmA1T/nK9MyxLBp7FlI6GGbynlD5judcw7ekRfVpcMTo6qmVMoIZp4+n1TH33GA0D0if5hsX5GGfzvbrT0TDlHI/ys7LWyt/QlTvDaseU9Bvu3GuY8s5Exynm3SsEalj0cWAp/CdeVVWV8C9qcrbl/xJoGJA+yTQs5mkP5fOsP16knMPPth2yNB1L1A9V0I4yKf+qbMQjtto51jDtLzTRh92Ebth6wxHlP+vonbNoyrrTMCB9kmmY/sMfESp5262c/FD+NQs/vekb0yFvsJTtWkTDlHcsYuIca5gWqugnKpd7RzyoH21vl+SOJSonumLunEWvuNK/LPwUADnDdMP0w7HWO2Ao/61cO/lh5NOeSRm4xjm6YdFyrGHKKmfD3lVy6xuH/F+vvFLaf8Pymu7cudNIk7T/DGgYkD6mG6ZtxGMO1tJoG4iYR2NsRMPWk/p+WLb9WRtf3/i0XTH5jzXmHeuj6c8W0zAgfcw1TBsxbORv3NpIh6zaFaNh69EvkvFtrjKl8lwjDVNeQt6VEeVYorRyyEH+p/wndf/99xtZcq5xBjLDXMO0j72Rj6U2cZzbBmYeDVuPwSsEIij7KAbP/WinzeLvxGdGcuubhKz67x/IMUk2zMg2SNtGxLzCxi6Zueev8kOc6+SysGEJ77IRk7bvpZQ7zllS7b+HLDltltz6mpUlKwvkKnMN0/4eLe64LL4/LA55sy7/+Sb3rVr6wT7KaNX11jcbdsJSWV+DYr4PAKxlrmHamWojh0dMHXjMmBSToL+c2RIJzyFlsmEp0odKXi/lji1KJ7RpsidgAHKAuYaZOjyobe6zarOVYhKS+wL7OBIGXqCGSStfcBwz89l89xYAgjI9tt5gmbQ9tmwbb516EizcFTNyskSshkkr3xw2OzurjLZXHqyqqmJcAwDLmW6Y/sIv/bWfevoRX1m1EyZZlARlG53ikmzevNnIZl24hgFAxiRzr6mI70YqKyvTl0z/2ywclCVcEoRbYADIGGvu+asMIle+YkM/pfK4cn2o3WuqEi4Jwi0wAGRM8t+9curUqYgvNtRTuqUdUcyeW3UIlwThFhgAMial78BUhk0rX4Ap04ZTx/xirSzJmHBJEG6BASBjUv0e5/giRlpnw013hEuCcAsMABmT3oZJ2Zcx4ZIg3AIDQMakvWFSlmUsZhJuva/knQ+U2bVI8S3/80/fnngp4kEaBgBSZhomZVPGYjZMODQMAKSMNUxamzEbrxujYQCQMzLXMIVyaw8bL3ymYQCQMzLdMNu9Nfr9Xzc/ZvdSpOr2z3369qZP2r0UAGCzvGvYzau/uPbeB6S337Z7QVKwYcO7fnT6lu2/b/dyAIDN8q5hsrdePP3roy2iZmzDhts/c+z2o412LwcA2C8fGyb7zX+88dbY92/+6td2L4g5G37nt9/5YPkt777L7gUBgKyQpw0DAOQAGgYAEBUNAwCIioYBAESVyw3793//d7sXAQAQ2113WTA8LZcbBgDIbTQMACAqGgYAEBUNAwCIioYBAERFwwAAoqJhAABR0TAAgKhoGABAVDQMACAqGgYAEBUNAwCIioYBAERFwwAAoqJhAABR0TAAgKhoGABAVDQMACAqGgYAEBUNAwCIioYBAERFwwAAoqJhFltcXFzvV1u2bLF76QAgp9Awa8jp8ng8MzMzcaZxu93l5eV2LykA5A4aZo2hoaHJycmEk5ExALAQDbOGHCfjUyY8qKhMwLFHAIiPhllgcXGxtbXV2nnu2rXLSO0AIJ/RMAuko2FSOGPpmC0A5AwaZoGEDZN3p+KMV4yjp6eHXTEAWA8Ns0D8hsm/kjsk1yiJjNEwAIiDhlkgTsPkx3ft2qVMk0TGaBgAxEHDLLBew7SAaZOZzRgNA4A4aJgFYjYsImDalKYyRsMAIA4aZoHohsUMmDax8YzRMACIg4ZZIKJhcQKmTW8wYzQMAOKgYRbQNyxhwLSnGMkYDQOAOGiYBQyO6ZDM3JJKQcMAIA4aZgH7G3bFP/idn0p/UNuwv2jloeC0r//0fNFDR2qdG+1+gwAgPWiYBWxvWKB7e80z8v83+C63lygPve5139/mlyRXz3lPzVa73yEASAsaZgHbG7Yw1vjBT41LB/t+0F+l9ioYGPhYXe//K24Z9jXd67D7HQKAtKBhFrC9YQCQn2iYBdZrWPSXp8hNMjVnGgYAcdAwC6Tpu1ckGgYAcdEwa5g9SGiQx+Oxe80AIHvRMGvI+2HJfUNYHHwHJgDER8OskdxXq8QhByz6dBoAQI+GWcnChlEvAEiIhgEAREXDAACiomEAAFHRMACAqFJt2OLi4szMzK5du+KMQRgaGqqurmaQAgDAWik1TLs/hZyosrKymJXq6emRIyf/Sp6SjAEALJR8w/Q3WJLjFPNOgPqrpsgYAMBaSTbMSMC0KckYACAdkmmY8YBp05MxAIDlTDdMHzDjN/QjYwAAy5lr2MzMjLbXlcQdabUb45IxAEDqTDQsxYAp9Pd358uxAACpMNEwq/Kj/6otvh8LAJA0c/thcnKUjCX9zSDK5WLKz3IU5fnY/Q4AAERl+nxYKhnTAiY/S34uAQMApCKZcYnaCENTGSNgAABrJXl9mKmB8vKU8t4bAUOkC13bawclqcF3ub0kM6/4utd9f5tfcnW/5Km90+7VB5Cy5O/TYTBj+RawOF/lzCDMSDQMQGpSul9iwozlT8D0a7oeefXLy8vtXtJsQsMApCbV+9YrGYtzudjQ0NDk5GRuB0xbzYSTkbE1hGpYoHt7zTOSdMR3uS1DCwsgIQu+P+zUqVOHDh2KM408QXV1td1rml76i94STpnwoKIyQe4fe6RhAFLD9zhbQH8PSaskfQWeSGgYgNTkRcN++MMflpaW3n777WmafzoaJpm9odfywtTz/c9989T4pSVJcmzd7ap+9PDhj5ZsvTVisqXpfzh58jvj/om50HR3Ol1Vh5v/d5WzUJtiweveK2/mG7yXmzf5h5/ufW5ieuGGPGVJxaMtT7hL5RkGf+4f/kr/yfFA+HGn6+Mt7W5X0caVGShlcnWff+b9c54v9n5zPPB6UCrYWlJxuOWzDaX6cqzXsNcD3m+eHPzO+Nw1SdpUXOqqbY54okGvTw0+3assZ+GO0upHW5r3zX3uwaiGLQfn/8k7+C3v6fCaRr1ioGt7zWDkrNfMIXhlyvv157xn/dPymkqFxeWu2iNPNJRvtfw/CQAR8qVh58+fP3bsWJoylqaGScbv6XU90Ptw3cBFeQMqb6ydRdfnwhtTybG7aeT5lpKN0ZPJkSu+45bg/KuhkkkFru7TntptykRqw1w1tVd83rm1r+Oo7BupeKmtOerx3e2+7zY4lV4qZbrHVfFfU+PhRVpV4Gz6pq/lPof6r7EatuDvqHMPh+ZfsNW5413qEkrFDd6xdu2JBgQv9NY8OjB9Y+1y7ii+49LcvL5Ay/OjxyqPvbikvnUF0huXwiVbfcXAYHXHqVCoppWmOrfJDzqbB7srwpGa//vGypbx0POVXy2ob37xEd9YW4mJJQZgXr407Fvf+tZdd92VpozZ3bDgVOeeumeDjv2dvt56dY/qdX9HvXv4klR0xHdG3ZIujX9qb+PY2smW572NB9rOBqWDfa/0V4UfUxsmb4Rre463f9RZeGt4723kWE2nXylS8SOeoTZXkTLTia6aPx+Uk1PV/0rfwfAM1DJJjvuaPH/TXBra4of2VPo/7R64EJS2Nfh+0K5u2qMbdmm45oMdgQJnw5c97fvDidBeuqDqxE/6KjYZe+Ou+zv2uodvSMU13ccfr3WGn7X0qrfr023eS5J+L2r6xIHKp+ekHfWe4U6XWrWlqb+uqXtmTtrWMvbDJufKjmzsY4kXBw58pHdOKq4/OdK5X93xWprqqqmT35OillPnmu5Jx38XAFR51DD5hzRlzO6GrRz9G7ncXrr6aNDfcbd7WCpo8v1bS3ijOz9+3Ptv0rve8/EGl/643KXhyg92TEv1ntc6XY7VuTmfPDPmLo5+FenezjPP1xfrDlFOfWF7nUe3cVfLVOt5tdu1UTeDla5E1U5r2NJo855jL0qunvOeGv2BuKC/9W63L/rxdc2P1Ox7KiDtaBn7h9UIhfxssPKhrunVhi0FRk7+6A3prormqt0O/QuG3ztn5w/G6neoj8Vs2NKF4ZM/eUP67w81/7FzzfOfuts9Ijk7zow9UiwBSJv8apiUnozZ3TB5B2tP45hUVHfC11GxegJsObj0q9Bhw8JNcQ9oRQ5zWDmWGBWM9QY1LPjce1v9UQ2LMVJj+qv7Ko/PS+6Ry0+WxphyafzYnsbR1ZpGvUSd57XPuwwcnVsYPbz32NlYCTE6pkM9B9bgvdx+X4LVj/18BoAAGZF3DZPSkDG7GyZJV7zuh9r8obM4hcUHqiseeM/73+cq2VEYY8rgfGBs+OSwf0o9z6TJRMOWXjy2p3k0NNzDU7s1esqVg5Dr0p6YQKD3f9QM3FhTIFXMhi0vzZ3z9j97aiqgnAlbZbBhS5f83q+dDD3/9bXn/2gYkGb52DDJ6ozZ3zDZ0vTo1/r7lbF8ik2lDX/V2VJZrO24BH82fOzjHePqYD9XyTaH+sRn/fMZadjqkMU4DQsN5bgj9jo6mz1dFUYaFr0XpYpu2IK/6xONgxdDIyed5Q+5dirhn5/66mjASMOWF/zd7kbPdDA8FvSh/cXq8ycGRl+mYUDa5WnDpHDGHn/8cUvmnxUNWxG8Nj8XmDo9Ojw4Jm9YpeLPjp1pdIZ+sTw98KHK3ksOV4evry48UkORwWOJhvbDtrWM/bjJmdLbZnw/TB3nUvyIZ+QJl+46BKPHEuU12ts8GtQPCYn7XgGwVp42LKf2w67NTU0vSLdtK7mvSH+uaOlsx97Dw0Ht9NLFgX0f6Z2XGkZ+1l6qH+aQPefDrnjrHmybsuBmhur5sBhjQCJWVj0DV9r945GVSwvUdTXWMPVMZGnXuZE/LTLyXgGwVj42LNfOh6lxihoHGLG9XglGRMOCU10H6gbTcCwxiXGJ88Mf29fxslTkHjnzZOnasRvBhSvBrdtineGLxei4RPUtimrYFa87dCl0woap71Vkw5bnvUf2hZ5Pw4A0y7uG5eK4RHXTX3iwc6RLu/Brwf/FOvezc9K9nedeqA9tX9V9Dt3VXcH5gG+g7SnlgmXLGyaFLkTrqVeuzZKWpodbajrOJrg+LHihq7J2cE5ylBz1nDhaqh7cW5r2drd1/N18Rf8P+g4au/mF0evDpgcerOy9olvU0PiOk22fGgiEB3foGzb3bOWBzlD+zj1TW7TSxekT+yqfnpcKXJ3f7qu/J/TWL13yn3y8MXQlnETDgLTLr4bl6PVh8n7DeNsnGsNb5/DNJhxvzF1cCG1EC0pavj3SdI+6SzPvcx9o9a8dOScVlpcWT0wFVq+FsqphxcU75uYuRSxP4vt0rN72QrmZSHB++lL4JhoHO31fqi/eKBkU+z4d+12lZ/36MR0r1Vw72e5S59JU4MraYf7q5cyKlTlcD3R9tGbw0trnFzhLdy9NXZg3fDEAgCTlUcNy9z4dYcr9Er992h+uReGOUtfBhw8f0t8IMWTp4mj/V/q9Z+aWlHsq/kVz84ek4T8K7YtUfPmVE5WFVp4P+9nhYJL3S5waHlh7+8FHmmv3FRdG3Psxoej7JT4snXx3zWDEKbe1k7n+pPkJtzPQEr7k7rGxc0dXx5fMv9jx2Be88uo47qzqO9WnDpGU33ltNVfutegMhEevrL3TBwDL5UvDcvx+iVklnXejV3sZB4fvgHySLw0T8b71Eg2LsvBim/vr0/Gm+HDn2BEaBuSLvGhYutGwNTL/rWAA8hUNs4bx73E2xePx2L1m5tEwAJlCw6wh74fJe2PWztPcd2BmDxoGIFNomDXkgPX09FiYMTlg8r6deAcSASCDaJiVLGwY9QKAhGgYAEBU+duw37yx8PZPJm/+8pd2LwiQ7TYUFLzzA3/0ji2b7V4QIFKeNiz4wnevtz4hvf223QsCiGHDbbdtPP6l3/rwh+xeEGCNfGzYzau/uPbeBwgYYM4tt/zuP517x+/dkfqcAKvkY8OCf/v89ban7F4KQDwbuz/v+LOH7V4KYFU+NuzNwW/8Z9+A9OabN996y+5lAURyW+ORgsc/Y/dSAKvysmFfe+ZG919vcDgk+X+UDDCMhiHb5G/D1PWnZIBhNAzZJt8bpr4LDsct9zhv/cM/sHvRgGyx/C//unwhEPEgDUO2oWEqPpyAHh8TCIGGqfhwAnp8TCAEGqbiwwno8TGBEGiYig8noMfHBEKgYSo+nIAeHxMIgYaprP1wGvkSFr5dBdmMhkEINExl1YdTrtepU6cmJycTTik3rLW1lZIhO9EwCIGGqaz6cPb09MzMzBicmIxlvwWfe2+rX3J1n/fUbjXzPK97b5v8vJ7znpqtVs88E2gYhEDDVFZ9ON1ut5HJqqur5d01SbiMLUwNf2v6XR+ur3q3w+5FydQaZ0/DLnRtrx2M/as0VJCGQQg0TGXJh3NxcVEOkpEp5d21yclJ0TK2NP6pPY1jadliZq3saVjQ33G3ezj272gY8hUNU2W4YR6PR55YuIwtjDV+8FP+osdGfEdLTO2IZfNBs/QsufUNUyZ2HPW99lhJBlachkEINEyV+YYp0wuXseTQsNRnHjh+d81Xg/FnaCEaBiHQMJUtDZPyJmM0LPWZT31he51Hahi53F6aiRWnYRACDVPZ1TDJgoypm8sG7+XmTf7hp3ufm5heuCE57iypeLTlCXfp1lul4M/9w1/pPzkeCD/udH28pd3tKtq4MgNlsEBoS1r95tnBruPP+S8uBKXC4vLqhraW2t2F2isFurfXPCNJR3yX23SHs5YXpp7vf+6bp8YvLUmSY+tuV/Wjhw9/tER+XW3ZIsiL2n6fkVULdG2vCS3ZS573Xxnu/8rwqYk5+TUKd1TU/mVLS2WxQ36Bl70nvz7oPaM8Xlr9aEvzw8pL67we8H7z5PCof/r1oFSw1VleXd9wuPa+GNVYmBj84ldOjl9QV7/+sWbXpc/ti5mZ8DwHvzM+d02SNhWXumqbP9tQemfkH4rRhj3z/jnPF/u/45+S38OCrSUVh1vWzE2boaPphdda7jXzX0eyaBiEQMNUNjZMispYT0+PmZdd2VzW1F7xeefW/s5R2TdS8VJbc9Tju9t9321wKtt6pWHbqhred3HQFzFhcdMLYy33qie/YjTseqD34bqBi0EplBBn0fW5UCdC828aeb6lZOPCeLu7f1pexjm1HzvukH9b/VdjDYY2xErDnFU1jnFfIBixZJ8d6ZZ6656OfLyw5sSPeyq08M6/2HZIXf3C4nuKfnkpFHh5AZ1HPSNHSwtXaxcMHK+p++r02rk5infcMXdpPqJhC/6OOvdwaJ6hNXrX/KuhgspL1OAda7/PseYPxUjD7qmqdYx7L6x95QJX3z96qlYzNj3wYGXvldKmrvfPv+j1h1oe/uvCXzQ3f8hZeKtkORoGIdAwlb0Nk9ZmTG6YmV0xbV+nuLbnePtHw1u05aXpkWM1nX5lu1j8iGeozVUU3rouTXTV/PmgvP2t6n+l72B4U68N2i4oafq/J1rKw9vcpenhlpqOs0HpYN8r/VVKEqIaFpzq3FP3bNCxv9PXW+9UJnrd31HvHr4kFR3xnWlTh34ke0ROadjaBVte8H+xzv2s0lqHq8PXV6escnDO11jZLq9yUcv3zjXtDi/fy72VHxuYkworPj/ypYfVbf3CRG/jJwcCNyRX1znPnxYprxT0d+xxDwcj3sPvdj3WGu6ffskvDdd8sCNQ4Gz4sqd9v7JIK+92QdWJn/RVbJLMNUy2o97zjXbXttC7Fbzi7/pE+A387Ni5RmfkWxGl8GDfWF9VkdUZo2EQAg1TZbhhMROl3aEquYY5nzwz5i6Ofly6t/PM8/XFum2ccmZlNUVqw4pbvndG2fSrXh3YV907LzX4LrcryYpq2MphzLUnadRR4AVNvn9rUadLrWG1J1/r3q8bCLkc6NpTM3hDctR5Xvm8S/eLeW/dvrYprRxLo817jr0o77GNnVmNgbqEoWIV1J54qTu8yzY//LF9HS/HmHLOU3ngC9O6JVfnGRWnoL/1brdPe9xMwwrqPec7XRujHte/XQvjbX/2Oe+lO2o/39300ZLQceDr81OetsbjU/IuYEnHGd8jxZKlaBiEQMNUGW5YfMk1LHpzGfv0lbaJjGzYaqtUr3vd94dm3P2Sp/bOmDNUrxgrqjvh66hYPQu1HFz6lbwH6Cjc5Fjzisk2LOr8WYJVVh+PWn6dueHqAx2vruyMLoy69x6T/xrQ+YOx+h1r39yIJV8aP7ancVSq97zW6XLEmrLO81ooq6mN6VD+RHR/CVh5YyVp7f7W3LM1BzoDUkGD75X2Ekt3xWgYhEDDVDQsqYZJ0hWv+6E2f+gMU2HxgeqKB97z/ve5SnYURi6iLQ1brwS6KdXjdS/33v2xgWD0OxC95HFulqFQp7SiYbGWJ5La1NXDp1ahYRACDVPRsCQbJoXOnI1+rb9fGaGn2FTa8FedyrjBNa9oS8PWedE167J+M2I3bGVwSgzOZk9XReYatnL41PBQT6NoGIRAw1Q0LPmGrQhem58LTJ0eHR4cC43u059bsrNh21rGftzkjJq1clIwyf2wdeZpZAnjzVxDwwBjaJiKhiXTsGtzU9ML0m3bSu4r0p8bWjrbsffwcFB30sjW82EVfT89UbUpYs4xz4fFOHMWueRXvHUPhkaNxDrHZmgJ481cE/knEvQ/dbd7RDeUVLM81fXuukGOJSJf0TAVDUumYRcH9n2kd16q9bzarR9WF/1Eexq2/mjD4FTXgbrB+WTGJapTFrlHzjxZunZUR3DhSnDrtsL4SxjjD8LAfpg6pe46B/Ul1QGWjOlAnqJhKhqW1LFEdYNeeLBzpGvl+jDt+q17O8+9UK9cfqWOtt/WMPIP7aUbJcNSbFjs68OWLgy4H+0N3FgzJN349WHBC12VtYNzkqPkqOfE0VJ1NObStLe7rePv5iv6f9B3MPbY+uCr3v5/nC/6QHPtPYmGa0b/iVz3d+x1D9/QXQ8nv+bF4WO1Hf4bjK1H/qJhKhqW7LjE8bZPNHovhX4M3afD8cZc6D5VoauSW7490rSysZaujR97oHH0hvpvJu81lXzDpKj7dEhXpsNjTxxO9wlPm2trovt0uPaX+s9GZmb+7xsrW8bD9+ZwbN1dfEdwfjp0n61Qy31fqi/eGHMJVy7X083K1Pmw4KsDdR8PpVdZEceCeksUrnFGPqNhKhqW/JgO5X6J3z4dvsti6KaFroMPHz5U5Vx74ib46uCxT/eH7qm4qbh98IyZe02l1LDwikwNDzw3/GJ45GT4fomHm5qr7imMfr3o+yXW/9fJ2IMbw/P0ng3fgzE0sav2kebafcUrt32KXsJg4Ks1dcfninXfXGN6TEd4COjJUf2LttTvL0rHF5LSMAiBhqlEbpiI1r1z0oqEgyaQXjQMQqBhKhqWWYHB6o5T8SZwNg92V4j1NS25hYZBCDRMRcMAPRoGIdAwFQ0D9GgYhJBMwyYmJmZnZ69evWp2e618LdbOsC1htqwzDQMSomEQgrmGnQqTwl8dUlVVVV5eburFZmZmRkdH5X/KP1eH2bLONAxIiIZBCCYapm2gzX/R8Bryc5WM2bWlpmFAQjQMQjDRMG0nLMVdKG0+brfb7J6cJdL64dQKnbRdu3ZZEkIgFTQMQshEw+S9E/1excTEhMfjSWI+Vknrh1NeWXntks6YHDA57eyEwXY0DEIw0bChoaHJyUkp1v6TvOGWfzU7Oytvu+Xtb1lZmRIn+V/lDbrSMHnfQtk053bDtDckiWeRLmQPGgYhWNOwnp4eJVTK/odywizi5JD2rHxoGCA6PiYQgjUN02hng+R6jY6OyhmrqqqS98/kqmm5omFA9uNjAiGkq2FytJT9sF27dkVMQ8OA7MfHBEJIpmExy6SQA6YNu18vUdo0ZWVlhw4dyvw68+EEEuJjAiGYaJi2j6XsRcWkPwcWZzJ5T06iYUAW42MCIRhtmHYAMOHVS/JvlVF5cXbX9Icl5WkyPB6PDyeQEB8TCCFxw+R6vfTSS8oeWMKA6Y8lxmmYtPZa4Axf7MyHE0iIjwmEYHQ/TNtzijMQI2IwfZzgaQGzZVhHzA/nrfeVvPOBsgwvCZC1lv/5p29PvBTxIA1DtjFxPkw7SLje3fyUMslN0u4LrOyTyf2TH9SeYtV9F5MWs2EAEqJhyDapjktcDJP/VQmYcjMObfdL/mF2dlZOmv4p2TkuEUBCNAzZJpn7JWqnr/RnvyTdwcOIq8QiDhhqw0NoGCAWGoZsk1LDtBpJa89+rfd4xG/tathbo9//dfNjmX9dQHS3f+7Ttzd90u6lAFal1DDtVr87d+7U72mt97jC9obdvPqLa+99QHr77cy/NCCwDRve9aPTt2z/fbuXA1iVUsOSY3vDZG+9ePrXR1vIGGDUhg23f+bY7Ucb7V4OYI08bZjsN//xxltj37/5q1/btQCAKDb8zm+/88HyW959l90LAkQy0TCr7tVr1fdBAwDyXDINS3i3jvgSXmcGAIARJhom6Xah5IxVVVXFuZVUTNrXOkvshAEAUmauYVK4Q7Ozs5OTk/prmQ2Sp98Zlvn7/AIAco/phgEAkCVoGABAVDQMACAqGgYAEBUNAwCIioYBAERFwwAAoqJhAABR0TAAgKhoGABAVDQMACAqGgYAEBUNAwCIioYBAERFwwAAoqJhAABR0TAAgKhoGABAVDQMACAqGgYAEBUNAwCIioYBAERFwwAAoqJhAABR0TAAgKhoGABAVDQMACAqGgYAENX/ByhByLbcM51QAAAAAElFTkSuQmCC)"
   ],
   "metadata": {
    "id": "65KlH2nMkr9r",
    "pycharm": {
     "name": "#%% md\n"
    }
   }
  },
  {
   "cell_type": "code",
   "metadata": {
    "id": "WpvgIP2TrIxJ",
    "pycharm": {
     "name": "#%%\n"
    }
   },
   "source": [
    "# 기본활동 후 생성된 모델 중 가장 마지막 파일을\n",
    "# mnist_model.h5로 이름을 바꾸어 저장합니다.\n",
    "model = load_model('./model/minist_model.h5')"
   ],
   "execution_count": null,
   "outputs": []
  },
  {
   "cell_type": "markdown",
   "source": [
    "3. 모델 요약 정보를 확인한다."
   ],
   "metadata": {
    "id": "WqzkPgSXLASe",
    "pycharm": {
     "name": "#%% md\n"
    }
   }
  },
  {
   "cell_type": "code",
   "metadata": {
    "colab": {
     "base_uri": "https://localhost:8080/"
    },
    "id": "aHOMeMG8rV4H",
    "outputId": "459bee7e-d769-4f16-a7d4-b19118c6e62d",
    "pycharm": {
     "name": "#%%\n"
    }
   },
   "source": [
    "model.summary()"
   ],
   "execution_count": null,
   "outputs": []
  },
  {
   "cell_type": "markdown",
   "source": [
    "## 3단계 숫자 손 글씨 이미지 인식하기"
   ],
   "metadata": {
    "id": "ICURkt8QMl3X",
    "pycharm": {
     "name": "#%% md\n"
    }
   }
  },
  {
   "cell_type": "markdown",
   "source": [
    "1. 이미지를 코랩에 업로드한다.\n",
    "\n",
    "https://www.photopea.com/ 에서 숫자 3, 4, 5, 9 만들기\n",
    "28x28 픽셀\n"
   ],
   "metadata": {
    "id": "gKxAhYZbMoCv",
    "pycharm": {
     "name": "#%% md\n"
    }
   }
  },
  {
   "cell_type": "markdown",
   "source": [
    "2. 숫자 이미지를 불러온 후, 확인한다."
   ],
   "metadata": {
    "id": "3SZBhrnkMpho",
    "pycharm": {
     "name": "#%% md\n"
    }
   }
  },
  {
   "cell_type": "code",
   "metadata": {
    "colab": {
     "base_uri": "https://localhost:8080/",
     "height": 265
    },
    "id": "lcwcgAg6qkfT",
    "outputId": "f5d16341-17fd-42e1-ed97-bfd5e680db95",
    "pycharm": {
     "name": "#%%\n"
    }
   },
   "source": [
    "img = Image.open('./data/3.png')\n",
    "plt.imshow(img);"
   ],
   "execution_count": 4,
   "outputs": [
    {
     "data": {
      "text/plain": "<Figure size 432x288 with 1 Axes>",
      "image/png": "[encoded data removed]"
     },
     "metadata": {
      "needs_background": "light"
     },
     "output_type": "display_data"
    }
   ]
  },
  {
   "cell_type": "code",
   "metadata": {
    "colab": {
     "base_uri": "https://localhost:8080/"
    },
    "id": "pIZ_n5tPq9oU",
    "outputId": "85b120e6-bd92-4bef-c8b7-049dbd4662fe",
    "pycharm": {
     "name": "#%%\n"
    }
   },
   "source": [
    "img.size"
   ],
   "execution_count": 8,
   "outputs": [
    {
     "data": {
      "text/plain": "(28, 28)"
     },
     "execution_count": 8,
     "metadata": {},
     "output_type": "execute_result"
    }
   ]
  },
  {
   "cell_type": "markdown",
   "source": [
    "3. 이미지를 넘파이 배열로 변환한다."
   ],
   "metadata": {
    "id": "-HKzy6m0Msou",
    "pycharm": {
     "name": "#%% md\n"
    }
   }
  },
  {
   "cell_type": "code",
   "metadata": {
    "id": "SeN0fbFqrfBX",
    "pycharm": {
     "name": "#%%\n"
    }
   },
   "source": [
    "img = np.asarray(img)"
   ],
   "execution_count": 9,
   "outputs": []
  },
  {
   "cell_type": "markdown",
   "source": [
    "4. 숫자 이미지를 인식시킨다."
   ],
   "metadata": {
    "id": "nBqtMYwJMu0r",
    "pycharm": {
     "name": "#%% md\n"
    }
   }
  },
  {
   "cell_type": "code",
   "metadata": {
    "colab": {
     "base_uri": "https://localhost:8080/"
    },
    "id": "pkllJ-BusFgY",
    "outputId": "828d5ee4-8cc4-40fc-9fbf-8fa3521eb548",
    "pycharm": {
     "name": "#%%\n"
    }
   },
   "source": [
    "res = model.predict(np.reshape(img, (1,28*28)))\n",
    "res"
   ],
   "execution_count": 10,
   "outputs": [
    {
     "name": "stdout",
     "output_type": "stream",
     "text": [
      "1/1 [==============================] - 0s 65ms/step\n"
     ]
    },
    {
     "data": {
      "text/plain": "array([[7.8934630e-07, 1.1065297e-12, 1.2867771e-07, 9.9979252e-01,\n        3.9765677e-15, 1.2301160e-10, 2.6835606e-12, 3.0821010e-10,\n        1.4618004e-07, 2.0636142e-04]], dtype=float32)"
     },
     "execution_count": 10,
     "metadata": {},
     "output_type": "execute_result"
    }
   ]
  },
  {
   "cell_type": "code",
   "metadata": {
    "colab": {
     "base_uri": "https://localhost:8080/"
    },
    "id": "I0v8cglftN75",
    "outputId": "fdb01ebc-34b9-48b2-ba6b-ae6af6616ec5",
    "pycharm": {
     "name": "#%%\n"
    }
   },
   "source": [
    "print(res[0])"
   ],
   "execution_count": 11,
   "outputs": [
    {
     "name": "stdout",
     "output_type": "stream",
     "text": [
      "[7.8934630e-07 1.1065297e-12 1.2867771e-07 9.9979252e-01 3.9765677e-15\n",
      " 1.2301160e-10 2.6835606e-12 3.0821010e-10 1.4618004e-07 2.0636142e-04]\n"
     ]
    }
   ]
  },
  {
   "cell_type": "code",
   "execution_count": 12,
   "outputs": [
    {
     "data": {
      "text/plain": "3"
     },
     "execution_count": 12,
     "metadata": {},
     "output_type": "execute_result"
    }
   ],
   "source": [
    "np.argmax(res[0])"
   ],
   "metadata": {
    "collapsed": false,
    "pycharm": {
     "name": "#%%\n"
    }
   }
  }
 ]
}